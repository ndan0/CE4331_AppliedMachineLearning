{
  "nbformat": 4,
  "nbformat_minor": 0,
  "metadata": {
    "colab": {
      "name": "YOLO11 Tutorial",
      "provenance": []
    },
    "kernelspec": {
      "name": "python3",
      "display_name": "Python 3"
    },
    "accelerator": "GPU"
  },
  "cells": [
    {
      "cell_type": "code",
      "source": [
        "# prompt: Unzip the dataset.zip folder to dataset.\n",
        "\n",
        "!unzip dataset.zip -d dataset\n"
      ],
      "metadata": {
        "colab": {
          "base_uri": "https://localhost:8080/"
        },
        "id": "JmeuEV-DXSKS",
        "outputId": "fbb4b118-1ef1-49b2-febb-0d87b92cd948"
      },
      "execution_count": 10,
      "outputs": [
        {
          "output_type": "stream",
          "name": "stdout",
          "text": [
            "Archive:  dataset.zip\n",
            "  inflating: dataset/README.dataset.txt  \n",
            "  inflating: dataset/README.roboflow.txt  \n",
            "  inflating: dataset/data.yaml       \n",
            "   creating: dataset/test/\n",
            "   creating: dataset/test/images/\n",
            " extracting: dataset/test/images/20241211_230407_jpg.rf.29be856e433415ed8474ae0ddcfbd6f5.jpg  \n",
            " extracting: dataset/test/images/20241211_230420_jpg.rf.0973cb726e3186935d66c6550cb54955.jpg  \n",
            " extracting: dataset/test/images/20241211_230509_jpg.rf.587efe4c11dc234e8388d3057339ac67.jpg  \n",
            " extracting: dataset/test/images/image_2024-12-11_230826672_png.rf.d9a4ce1294313d11912c5d55f41b51ff.jpg  \n",
            " extracting: dataset/test/images/image_2024-12-11_230836994_png.rf.cda53428050a3bcf4b7479ff21e8ea23.jpg  \n",
            "   creating: dataset/test/labels/\n",
            "  inflating: dataset/test/labels/20241211_230407_jpg.rf.29be856e433415ed8474ae0ddcfbd6f5.txt  \n",
            "  inflating: dataset/test/labels/20241211_230420_jpg.rf.0973cb726e3186935d66c6550cb54955.txt  \n",
            "  inflating: dataset/test/labels/20241211_230509_jpg.rf.587efe4c11dc234e8388d3057339ac67.txt  \n",
            "  inflating: dataset/test/labels/image_2024-12-11_230826672_png.rf.d9a4ce1294313d11912c5d55f41b51ff.txt  \n",
            "  inflating: dataset/test/labels/image_2024-12-11_230836994_png.rf.cda53428050a3bcf4b7479ff21e8ea23.txt  \n",
            "   creating: dataset/train/\n",
            "   creating: dataset/train/images/\n",
            " extracting: dataset/train/images/20241211_221113_jpg.rf.30b75d75428e3930fc886aa0b24db3f0.jpg  \n",
            " extracting: dataset/train/images/20241211_221127_jpg.rf.b237799bcf81ed6ad81fe284e7849a7c.jpg  \n",
            " extracting: dataset/train/images/20241211_221143_jpg.rf.5b29896f6cb6a95b2e90a54edfeceaa0.jpg  \n",
            " extracting: dataset/train/images/20241211_221157_jpg.rf.6d85071963e2dae5f029f77071d2b6ef.jpg  \n",
            " extracting: dataset/train/images/20241211_221207_jpg.rf.98a325158c7bd956b62cf474568e9046.jpg  \n",
            " extracting: dataset/train/images/20241211_221238_jpg.rf.7fd26163d8e26ca69c2adbcb9a6abe2a.jpg  \n",
            " extracting: dataset/train/images/20241211_221314_jpg.rf.78ea3df20bc2298ccf05870dc55374a7.jpg  \n",
            " extracting: dataset/train/images/20241211_230332_jpg.rf.ac9be270108af2de72f01bd88ab9ac33.jpg  \n",
            " extracting: dataset/train/images/20241211_230336_jpg.rf.da347a4270813a7844331f2288f28cc7.jpg  \n",
            " extracting: dataset/train/images/20241211_230351_jpg.rf.b33330f5f0b79b38c5b2193c09f246b9.jpg  \n",
            " extracting: dataset/train/images/20241211_230357_jpg.rf.1cd4fd64403dbc28493f0b772ffbb612.jpg  \n",
            " extracting: dataset/train/images/20241211_230402_jpg.rf.bf1f6603ea7e83e3781be2f3827025f2.jpg  \n",
            " extracting: dataset/train/images/20241211_230455_jpg.rf.96cee29bcc5e5635c8b5977734d50ed1.jpg  \n",
            " extracting: dataset/train/images/IMG_5783_JPG.rf.c5ba98de2fb3db887ba2e9e8c7a768e7.jpg  \n",
            " extracting: dataset/train/images/IMG_5792_JPG.rf.8f33c8adfb44e5633cb6a3a516e4604b.jpg  \n",
            " extracting: dataset/train/images/IMG_5910-1-_JPG.rf.f84928de5c0cc28c62b0a0a2ea5e2c2c.jpg  \n",
            " extracting: dataset/train/images/IMG_5913-1-_JPG.rf.aa8e3e5d0ff19b87132e3330fd174399.jpg  \n",
            " extracting: dataset/train/images/IMG_5914-1-_JPG.rf.1f001411f759e424a57d6bb1f7fcbb61.jpg  \n",
            " extracting: dataset/train/images/IMG_5921_JPG.rf.c4fc972af4aa952847c03920d9747fa7.jpg  \n",
            " extracting: dataset/train/images/IMG_5922_JPG.rf.a369733e7624306e9bc84d5b0779a9b9.jpg  \n",
            " extracting: dataset/train/images/IMG_5932_JPG.rf.480e2984568fa445427a9f7df4a070da.jpg  \n",
            " extracting: dataset/train/images/IMG_5933_JPG.rf.32939c931027a7334748b64458e29a4c.jpg  \n",
            " extracting: dataset/train/images/IMG_5934_JPG.rf.64788375bae1d6c29132b10d07941c69.jpg  \n",
            " extracting: dataset/train/images/IMG_5938_JPG.rf.15f675255b69943512629cf4f3866eb7.jpg  \n",
            " extracting: dataset/train/images/IMG_5940_JPG.rf.de33539022e724229487329a8de11b53.jpg  \n",
            " extracting: dataset/train/images/IMG_5941_JPG.rf.efc3564dbf7d370ffdb375a777d2c4d6.jpg  \n",
            " extracting: dataset/train/images/IMG_5942_JPG.rf.a79774f907ed7e17280d46895ff2a6c9.jpg  \n",
            " extracting: dataset/train/images/IMG_5943_JPG.rf.8723b4fc228e52bf75778de5b1ed1134.jpg  \n",
            " extracting: dataset/train/images/IMG_5944_JPG.rf.4bb96573a7470b8301ddf5eda6286af9.jpg  \n",
            " extracting: dataset/train/images/IMG_5945_JPG.rf.46126607a1a249597d0cf1b707ed376b.jpg  \n",
            " extracting: dataset/train/images/IMG_5946_JPG.rf.ffa89243e06d0b24fd9472daae4be0db.jpg  \n",
            " extracting: dataset/train/images/IMG_5947_JPG.rf.b158b09a32d9f1a3a3dc30168c207d5e.jpg  \n",
            " extracting: dataset/train/images/IMG_5948_JPG.rf.d9947c8dfbb974ce21dc770e348832ae.jpg  \n",
            " extracting: dataset/train/images/IMG_8258_jpg.rf.bbac671494c96a55a1b14781cceeebc2.jpg  \n",
            " extracting: dataset/train/images/image_2024-12-11_211449548_png.rf.2350b948fc38e5772408d43414a286ab.jpg  \n",
            " extracting: dataset/train/images/image_2024-12-11_211545088_png.rf.9edfc0af039905f001f3f713b41e8dcf.jpg  \n",
            " extracting: dataset/train/images/image_2024-12-11_211608614_png.rf.e4d39bc532968617e97bb0fa96a4f89a.jpg  \n",
            " extracting: dataset/train/images/image_2024-12-11_211624375_png.rf.285642989420857f29440c53e2774fb4.jpg  \n",
            " extracting: dataset/train/images/image_2024-12-11_211636043_png.rf.5958e81242fa18ab71004b9770118cd3.jpg  \n",
            " extracting: dataset/train/images/image_2024-12-11_211646155_png.rf.aa4179ce0fa1cdea58917160ae8b1746.jpg  \n",
            " extracting: dataset/train/images/image_2024-12-11_211654977_png.rf.198b5e154a71d018456edd57ad3ee03f.jpg  \n",
            " extracting: dataset/train/images/image_2024-12-11_211703845_png.rf.36070827fa59c4e4e8402f0086ed8a71.jpg  \n",
            " extracting: dataset/train/images/image_2024-12-11_211716261_png.rf.d97eb79a9f2ff3292d6b839279877c44.jpg  \n",
            " extracting: dataset/train/images/image_2024-12-11_211730133_png.rf.924d234f16d9676b725fe95d06395623.jpg  \n",
            " extracting: dataset/train/images/image_2024-12-11_211742737_png.rf.b0ebbd1020015530027c1e07121ad324.jpg  \n",
            " extracting: dataset/train/images/image_2024-12-11_211756845_png.rf.3e5332c62d62bcbe936f64797fffaf50.jpg  \n",
            " extracting: dataset/train/images/image_2024-12-11_211810254_png.rf.8b9dd2810f666b58fc07e7d4965a2223.jpg  \n",
            " extracting: dataset/train/images/image_2024-12-11_230706223_png.rf.47bd6764a40b4abfeea32505ecad36cc.jpg  \n",
            " extracting: dataset/train/images/image_2024-12-11_230719894_png.rf.a1e2f2e30279aa6c484006d87738ca67.jpg  \n",
            " extracting: dataset/train/images/image_2024-12-11_230730557_png.rf.a027f2a5bab53c10d02d7ba66d492e43.jpg  \n",
            " extracting: dataset/train/images/image_2024-12-11_230739706_png.rf.48ef74d3eb29f6e08b01c688d04f52e1.jpg  \n",
            " extracting: dataset/train/images/image_2024-12-11_230747627_png.rf.f84f79b9b2b9d8919e6b4b81969f881b.jpg  \n",
            " extracting: dataset/train/images/image_2024-12-11_230808397_png.rf.c2306d6dc5bf5f6fb176fe5181c91366.jpg  \n",
            " extracting: dataset/train/images/image_2024-12-11_230848641_png.rf.6b4980aacaf75729786c166d03defb25.jpg  \n",
            "   creating: dataset/train/labels/\n",
            "  inflating: dataset/train/labels/20241211_221113_jpg.rf.30b75d75428e3930fc886aa0b24db3f0.txt  \n",
            "  inflating: dataset/train/labels/20241211_221127_jpg.rf.b237799bcf81ed6ad81fe284e7849a7c.txt  \n",
            "  inflating: dataset/train/labels/20241211_221143_jpg.rf.5b29896f6cb6a95b2e90a54edfeceaa0.txt  \n",
            "  inflating: dataset/train/labels/20241211_221157_jpg.rf.6d85071963e2dae5f029f77071d2b6ef.txt  \n",
            "  inflating: dataset/train/labels/20241211_221207_jpg.rf.98a325158c7bd956b62cf474568e9046.txt  \n",
            "  inflating: dataset/train/labels/20241211_221238_jpg.rf.7fd26163d8e26ca69c2adbcb9a6abe2a.txt  \n",
            "  inflating: dataset/train/labels/20241211_221314_jpg.rf.78ea3df20bc2298ccf05870dc55374a7.txt  \n",
            "  inflating: dataset/train/labels/20241211_230332_jpg.rf.ac9be270108af2de72f01bd88ab9ac33.txt  \n",
            "  inflating: dataset/train/labels/20241211_230336_jpg.rf.da347a4270813a7844331f2288f28cc7.txt  \n",
            " extracting: dataset/train/labels/20241211_230351_jpg.rf.b33330f5f0b79b38c5b2193c09f246b9.txt  \n",
            "  inflating: dataset/train/labels/20241211_230357_jpg.rf.1cd4fd64403dbc28493f0b772ffbb612.txt  \n",
            "  inflating: dataset/train/labels/20241211_230402_jpg.rf.bf1f6603ea7e83e3781be2f3827025f2.txt  \n",
            "  inflating: dataset/train/labels/20241211_230455_jpg.rf.96cee29bcc5e5635c8b5977734d50ed1.txt  \n",
            "  inflating: dataset/train/labels/IMG_5783_JPG.rf.c5ba98de2fb3db887ba2e9e8c7a768e7.txt  \n",
            " extracting: dataset/train/labels/IMG_5792_JPG.rf.8f33c8adfb44e5633cb6a3a516e4604b.txt  \n",
            "  inflating: dataset/train/labels/IMG_5910-1-_JPG.rf.f84928de5c0cc28c62b0a0a2ea5e2c2c.txt  \n",
            "  inflating: dataset/train/labels/IMG_5913-1-_JPG.rf.aa8e3e5d0ff19b87132e3330fd174399.txt  \n",
            "  inflating: dataset/train/labels/IMG_5914-1-_JPG.rf.1f001411f759e424a57d6bb1f7fcbb61.txt  \n",
            "  inflating: dataset/train/labels/IMG_5921_JPG.rf.c4fc972af4aa952847c03920d9747fa7.txt  \n",
            "  inflating: dataset/train/labels/IMG_5922_JPG.rf.a369733e7624306e9bc84d5b0779a9b9.txt  \n",
            "  inflating: dataset/train/labels/IMG_5932_JPG.rf.480e2984568fa445427a9f7df4a070da.txt  \n",
            "  inflating: dataset/train/labels/IMG_5933_JPG.rf.32939c931027a7334748b64458e29a4c.txt  \n",
            "  inflating: dataset/train/labels/IMG_5934_JPG.rf.64788375bae1d6c29132b10d07941c69.txt  \n",
            "  inflating: dataset/train/labels/IMG_5938_JPG.rf.15f675255b69943512629cf4f3866eb7.txt  \n",
            "  inflating: dataset/train/labels/IMG_5940_JPG.rf.de33539022e724229487329a8de11b53.txt  \n",
            "  inflating: dataset/train/labels/IMG_5941_JPG.rf.efc3564dbf7d370ffdb375a777d2c4d6.txt  \n",
            "  inflating: dataset/train/labels/IMG_5942_JPG.rf.a79774f907ed7e17280d46895ff2a6c9.txt  \n",
            "  inflating: dataset/train/labels/IMG_5943_JPG.rf.8723b4fc228e52bf75778de5b1ed1134.txt  \n",
            "  inflating: dataset/train/labels/IMG_5944_JPG.rf.4bb96573a7470b8301ddf5eda6286af9.txt  \n",
            "  inflating: dataset/train/labels/IMG_5945_JPG.rf.46126607a1a249597d0cf1b707ed376b.txt  \n",
            "  inflating: dataset/train/labels/IMG_5946_JPG.rf.ffa89243e06d0b24fd9472daae4be0db.txt  \n",
            "  inflating: dataset/train/labels/IMG_5947_JPG.rf.b158b09a32d9f1a3a3dc30168c207d5e.txt  \n",
            "  inflating: dataset/train/labels/IMG_5948_JPG.rf.d9947c8dfbb974ce21dc770e348832ae.txt  \n",
            "  inflating: dataset/train/labels/IMG_8258_jpg.rf.bbac671494c96a55a1b14781cceeebc2.txt  \n",
            "  inflating: dataset/train/labels/image_2024-12-11_211449548_png.rf.2350b948fc38e5772408d43414a286ab.txt  \n",
            "  inflating: dataset/train/labels/image_2024-12-11_211545088_png.rf.9edfc0af039905f001f3f713b41e8dcf.txt  \n",
            "  inflating: dataset/train/labels/image_2024-12-11_211608614_png.rf.e4d39bc532968617e97bb0fa96a4f89a.txt  \n",
            " extracting: dataset/train/labels/image_2024-12-11_211624375_png.rf.285642989420857f29440c53e2774fb4.txt  \n",
            "  inflating: dataset/train/labels/image_2024-12-11_211636043_png.rf.5958e81242fa18ab71004b9770118cd3.txt  \n",
            "  inflating: dataset/train/labels/image_2024-12-11_211646155_png.rf.aa4179ce0fa1cdea58917160ae8b1746.txt  \n",
            "  inflating: dataset/train/labels/image_2024-12-11_211654977_png.rf.198b5e154a71d018456edd57ad3ee03f.txt  \n",
            " extracting: dataset/train/labels/image_2024-12-11_211703845_png.rf.36070827fa59c4e4e8402f0086ed8a71.txt  \n",
            "  inflating: dataset/train/labels/image_2024-12-11_211716261_png.rf.d97eb79a9f2ff3292d6b839279877c44.txt  \n",
            "  inflating: dataset/train/labels/image_2024-12-11_211730133_png.rf.924d234f16d9676b725fe95d06395623.txt  \n",
            "  inflating: dataset/train/labels/image_2024-12-11_211742737_png.rf.b0ebbd1020015530027c1e07121ad324.txt  \n",
            "  inflating: dataset/train/labels/image_2024-12-11_211756845_png.rf.3e5332c62d62bcbe936f64797fffaf50.txt  \n",
            "  inflating: dataset/train/labels/image_2024-12-11_211810254_png.rf.8b9dd2810f666b58fc07e7d4965a2223.txt  \n",
            "  inflating: dataset/train/labels/image_2024-12-11_230706223_png.rf.47bd6764a40b4abfeea32505ecad36cc.txt  \n",
            "  inflating: dataset/train/labels/image_2024-12-11_230719894_png.rf.a1e2f2e30279aa6c484006d87738ca67.txt  \n",
            "  inflating: dataset/train/labels/image_2024-12-11_230730557_png.rf.a027f2a5bab53c10d02d7ba66d492e43.txt  \n",
            "  inflating: dataset/train/labels/image_2024-12-11_230739706_png.rf.48ef74d3eb29f6e08b01c688d04f52e1.txt  \n",
            "  inflating: dataset/train/labels/image_2024-12-11_230747627_png.rf.f84f79b9b2b9d8919e6b4b81969f881b.txt  \n",
            "  inflating: dataset/train/labels/image_2024-12-11_230808397_png.rf.c2306d6dc5bf5f6fb176fe5181c91366.txt  \n",
            "  inflating: dataset/train/labels/image_2024-12-11_230848641_png.rf.6b4980aacaf75729786c166d03defb25.txt  \n",
            "   creating: dataset/valid/\n",
            "   creating: dataset/valid/images/\n",
            " extracting: dataset/valid/images/20241211_230340_jpg.rf.66eb24f79492df182102574c4045dc18.jpg  \n",
            " extracting: dataset/valid/images/20241211_230501_jpg.rf.94e7b01374a3ff684fb3161e551aad00.jpg  \n",
            " extracting: dataset/valid/images/IMG_5939_JPG.rf.4427e7425c0f72cb3de0bfad7c23e348.jpg  \n",
            " extracting: dataset/valid/images/image_2024-12-11_230759532_png.rf.51a44a2949a72d1c000f53d9066d6d0b.jpg  \n",
            " extracting: dataset/valid/images/image_2024-12-11_230816803_png.rf.dfdb400fe3524b9ba1af7130f77a97b4.jpg  \n",
            "   creating: dataset/valid/labels/\n",
            "  inflating: dataset/valid/labels/20241211_230340_jpg.rf.66eb24f79492df182102574c4045dc18.txt  \n",
            "  inflating: dataset/valid/labels/20241211_230501_jpg.rf.94e7b01374a3ff684fb3161e551aad00.txt  \n",
            "  inflating: dataset/valid/labels/IMG_5939_JPG.rf.4427e7425c0f72cb3de0bfad7c23e348.txt  \n",
            "  inflating: dataset/valid/labels/image_2024-12-11_230759532_png.rf.51a44a2949a72d1c000f53d9066d6d0b.txt  \n",
            "  inflating: dataset/valid/labels/image_2024-12-11_230816803_png.rf.dfdb400fe3524b9ba1af7130f77a97b4.txt  \n"
          ]
        }
      ]
    },
    {
      "cell_type": "code",
      "source": [
        "# prompt: For each images in the test train and valid folder, loop through all the images, create a duplication of n time and append that n to the name + file extension. Then do the same thing for the labels in the labels folder. Ensure that the image and the label have the same name in their respective folder\n",
        "\n",
        "import os\n",
        "import shutil\n",
        "from PIL import Image\n",
        "\n",
        "def duplicate_images_and_labels(dataset_path, n_duplicates, folders = [\"train\", \"test\", \"valid\"]):\n",
        "    for folder in folders:\n",
        "        image_folder = os.path.join(dataset_path, folder, \"images\")\n",
        "        label_folder = os.path.join(dataset_path, folder, \"labels\")  # Assuming labels are in a 'labels' folder\n",
        "\n",
        "        for filename in os.listdir(image_folder):\n",
        "            if filename.endswith(('.jpg', '.jpeg', '.png')): # Add other image extensions if needed\n",
        "                base_name, ext = os.path.splitext(filename)\n",
        "                image_path = os.path.join(image_folder, filename)\n",
        "\n",
        "                for i in range(n_duplicates):\n",
        "                  new_filename = f\"{base_name}_{i}{ext}\"\n",
        "                  new_image_path = os.path.join(image_folder, new_filename)\n",
        "                  shutil.copy2(image_path, new_image_path) # copy2 preserves metadata\n",
        "\n",
        "                # Duplicate corresponding label file:\n",
        "                label_filename = base_name + \".txt\" #Assuming .txt labels\n",
        "                label_path = os.path.join(label_folder, label_filename)\n",
        "\n",
        "                if os.path.exists(label_path):\n",
        "                  for i in range(n_duplicates):\n",
        "                    new_label_filename = f\"{base_name}_{i}.txt\"\n",
        "                    new_label_path = os.path.join(label_folder, new_label_filename)\n",
        "                    shutil.copy2(label_path, new_label_path)\n",
        "\n",
        "\n",
        "# Example usage:\n",
        "dataset_path = \"dataset\"  # Replace with actual path to the dataset\n",
        "n_duplicates = 2 # Number of duplicates for each image/label\n",
        "duplicate_images_and_labels(dataset_path, n_duplicates)\n",
        "\n",
        "#Duplicate a lot fo train\n",
        "n_duplicates = 10 # Number of duplicates for each image/label\n",
        "duplicate_images_and_labels(dataset_path, n_duplicates, [\"train\"])\n"
      ],
      "metadata": {
        "id": "3JV06ZPeXrl6"
      },
      "execution_count": 13,
      "outputs": []
    },
    {
      "cell_type": "markdown",
      "metadata": {
        "id": "t6MPjfT5NrKQ"
      },
      "source": [
        "<div align=\"center\">\n",
        "\n",
        "  <a href=\"https://ultralytics.com/yolo\" target=\"_blank\">\n",
        "    <img width=\"1024\", src=\"https://raw.githubusercontent.com/ultralytics/assets/main/yolov8/banner-yolov8.png\"></a>\n",
        "\n",
        "  [中文](https://docs.ultralytics.com/zh/) | [한국어](https://docs.ultralytics.com/ko/) | [日本語](https://docs.ultralytics.com/ja/) | [Русский](https://docs.ultralytics.com/ru/) | [Deutsch](https://docs.ultralytics.com/de/) | [Français](https://docs.ultralytics.com/fr/) | [Español](https://docs.ultralytics.com/es/) | [Português](https://docs.ultralytics.com/pt/) | [Türkçe](https://docs.ultralytics.com/tr/) | [Tiếng Việt](https://docs.ultralytics.com/vi/) | [العربية](https://docs.ultralytics.com/ar/)\n",
        "\n",
        "  <a href=\"https://github.com/ultralytics/ultralytics/actions/workflows/ci.yaml\"><img src=\"https://github.com/ultralytics/ultralytics/actions/workflows/ci.yaml/badge.svg\" alt=\"Ultralytics CI\"></a>\n",
        "  <a href=\"https://console.paperspace.com/github/ultralytics/ultralytics\"><img src=\"https://assets.paperspace.io/img/gradient-badge.svg\" alt=\"Run on Gradient\"/></a>\n",
        "  <a href=\"https://colab.research.google.com/github/ultralytics/ultralytics/blob/main/examples/tutorial.ipynb\"><img src=\"https://colab.research.google.com/assets/colab-badge.svg\" alt=\"Open In Colab\"></a>\n",
        "  <a href=\"https://www.kaggle.com/models/ultralytics/yolo11\"><img src=\"https://kaggle.com/static/images/open-in-kaggle.svg\" alt=\"Open In Kaggle\"></a>\n",
        "\n",
        "  <a href=\"https://ultralytics.com/discord\"><img alt=\"Discord\" src=\"https://img.shields.io/discord/1089800235347353640?logo=discord&logoColor=white&label=Discord&color=blue\"></a>\n",
        "  <a href=\"https://community.ultralytics.com\"><img alt=\"Ultralytics Forums\" src=\"https://img.shields.io/discourse/users?server=https%3A%2F%2Fcommunity.ultralytics.com&logo=discourse&label=Forums&color=blue\"></a>\n",
        "  <a href=\"https://reddit.com/r/ultralytics\"><img alt=\"Ultralytics Reddit\" src=\"https://img.shields.io/reddit/subreddit-subscribers/ultralytics?style=flat&logo=reddit&logoColor=white&label=Reddit&color=blue\"></a>\n",
        "\n",
        "Welcome to the Ultralytics YOLO11 🚀 notebook! <a href=\"https://github.com/ultralytics/ultralytics\">YOLO11</a> is the latest version of the YOLO (You Only Look Once) AI models developed by <a href=\"https://ultralytics.com\">Ultralytics</a>. This notebook serves as the starting point for exploring the various resources available to help you get started with YOLO11 and understand its features and capabilities.\n",
        "\n",
        "YOLO11 models are fast, accurate, and easy to use, making them ideal for various object detection and image segmentation tasks. They can be trained on large datasets and run on diverse hardware platforms, from CPUs to GPUs.\n",
        "\n",
        "We hope that the resources in this notebook will help you get the most out of YOLO11. Please browse the YOLO11 <a href=\"https://docs.ultralytics.com/\">Docs</a> for details, raise an issue on <a href=\"https://github.com/ultralytics/ultralytics\">GitHub</a> for support, and join our <a href=\"https://ultralytics.com/discord\">Discord</a> community for questions and discussions!\n",
        "\n",
        "</div>"
      ]
    },
    {
      "cell_type": "markdown",
      "source": [
        "<div align=\"center\">\n",
        "  \n",
        "  <a href=\"https://www.youtube.com/watch?v=ZN3nRZT7b24\" target=\"_blank\">\n",
        "    <img src=\"https://img.youtube.com/vi/ZN3nRZT7b24/maxresdefault.jpg\" alt=\"Ultralytics Video\" width=\"720\" style=\"border-radius: 10px; box-shadow: 0 4px 8px rgba(0, 0, 0, 0.2);\"></a>\n",
        "  \n",
        "  <p style=\"font-size: 16px; font-family: Arial, sans-serif; color: #555;\">\n",
        "    <strong>Watch: </strong> How to Train\n",
        "  <a href=\"https://github.com/ultralytics/ultralytics\">Ultralytics</a>\n",
        "  <a href=\"https://docs.ultralytics.com/models/yolo11/\">YOLO11</a> Model on Custom Dataset using Google Colab Notebook 🚀</p>\n",
        "\n",
        "</div>"
      ],
      "metadata": {
        "id": "DXHD1DC5M64G"
      }
    },
    {
      "cell_type": "markdown",
      "metadata": {
        "id": "7mGmQbAO5pQb"
      },
      "source": [
        "# Setup\n",
        "\n",
        "Pip install `ultralytics` and [dependencies](https://github.com/ultralytics/ultralytics/blob/main/pyproject.toml) and check software and hardware.\n",
        "\n",
        "[![PyPI - Version](https://img.shields.io/pypi/v/ultralytics?logo=pypi&logoColor=white)](https://pypi.org/project/ultralytics/) [![Downloads](https://static.pepy.tech/badge/ultralytics)](https://www.pepy.tech/projects/ultralytics) [![PyPI - Python Version](https://img.shields.io/pypi/pyversions/ultralytics?logo=python&logoColor=gold)](https://pypi.org/project/ultralytics/)"
      ]
    },
    {
      "cell_type": "code",
      "metadata": {
        "id": "wbvMlHd_QwMG",
        "colab": {
          "base_uri": "https://localhost:8080/"
        },
        "outputId": "afb3e144-ee6e-4bb8-c3ac-4fd2c574be74"
      },
      "source": [
        "%pip install ultralytics\n",
        "import ultralytics\n",
        "ultralytics.checks()"
      ],
      "execution_count": 14,
      "outputs": [
        {
          "output_type": "stream",
          "name": "stdout",
          "text": [
            "Ultralytics 8.3.49 🚀 Python-3.10.12 torch-2.5.1+cu121 CUDA:0 (Tesla T4, 15102MiB)\n",
            "Setup complete ✅ (2 CPUs, 12.7 GB RAM, 33.3/235.7 GB disk)\n"
          ]
        }
      ]
    },
    {
      "cell_type": "markdown",
      "metadata": {
        "id": "ZY2VXXXu74w5"
      },
      "source": [
        "# 3. Train\n",
        "\n",
        "<p align=\"\"><a href=\"https://ultralytics.com/hub\"><img width=\"1000\" src=\"https://github.com/ultralytics/assets/raw/main/yolov8/banner-integrations.png\"/></a></p>\n",
        "\n",
        "Train YOLO11 on [Detect](https://docs.ultralytics.com/tasks/detect/), [Segment](https://docs.ultralytics.com/tasks/segment/), [Classify](https://docs.ultralytics.com/tasks/classify/) and [Pose](https://docs.ultralytics.com/tasks/pose/) datasets. See [YOLO11 Train Docs](https://docs.ultralytics.com/modes/train/) for more information."
      ]
    },
    {
      "cell_type": "code",
      "metadata": {
        "id": "1NcFxRcFdJ_O",
        "outputId": "88c0f7b0-0a94-4485-9219-1967bbfb98e5",
        "colab": {
          "base_uri": "https://localhost:8080/"
        }
      },
      "source": [
        "# Train YOLO11n on COCO8 for 3 epochs\n",
        "!yolo train model=yolo11n.pt data=/content/dataset/data.yaml epochs=10 imgsz=224"
      ],
      "execution_count": 15,
      "outputs": [
        {
          "output_type": "stream",
          "name": "stdout",
          "text": [
            "Ultralytics 8.3.49 🚀 Python-3.10.12 torch-2.5.1+cu121 CUDA:0 (Tesla T4, 15102MiB)\n",
            "\u001b[34m\u001b[1mengine/trainer: \u001b[0mtask=detect, mode=train, model=yolo11n.pt, data=/content/dataset/data.yaml, epochs=10, time=None, patience=100, batch=16, imgsz=640, save=True, save_period=-1, cache=False, device=None, workers=8, project=None, name=train3, exist_ok=False, pretrained=True, optimizer=auto, verbose=True, seed=0, deterministic=True, single_cls=False, rect=False, cos_lr=False, close_mosaic=10, resume=False, amp=True, fraction=1.0, profile=False, freeze=None, multi_scale=False, overlap_mask=True, mask_ratio=4, dropout=0.0, val=True, split=val, save_json=False, save_hybrid=False, conf=None, iou=0.7, max_det=300, half=False, dnn=False, plots=True, source=None, vid_stride=1, stream_buffer=False, visualize=False, augment=False, agnostic_nms=False, classes=None, retina_masks=False, embed=None, show=False, save_frames=False, save_txt=False, save_conf=False, save_crop=False, show_labels=True, show_conf=True, show_boxes=True, line_width=None, format=torchscript, keras=False, optimize=False, int8=False, dynamic=False, simplify=True, opset=None, workspace=None, nms=False, lr0=0.01, lrf=0.01, momentum=0.937, weight_decay=0.0005, warmup_epochs=3.0, warmup_momentum=0.8, warmup_bias_lr=0.1, box=7.5, cls=0.5, dfl=1.5, pose=12.0, kobj=1.0, nbs=64, hsv_h=0.015, hsv_s=0.7, hsv_v=0.4, degrees=0.0, translate=0.1, scale=0.5, shear=0.0, perspective=0.0, flipud=0.0, fliplr=0.5, bgr=0.0, mosaic=1.0, mixup=0.0, copy_paste=0.0, copy_paste_mode=flip, auto_augment=randaugment, erasing=0.4, crop_fraction=1.0, cfg=None, tracker=botsort.yaml, save_dir=runs/detect/train3\n",
            "Overriding model.yaml nc=80 with nc=1\n",
            "\n",
            "                   from  n    params  module                                       arguments                     \n",
            "  0                  -1  1       464  ultralytics.nn.modules.conv.Conv             [3, 16, 3, 2]                 \n",
            "  1                  -1  1      4672  ultralytics.nn.modules.conv.Conv             [16, 32, 3, 2]                \n",
            "  2                  -1  1      6640  ultralytics.nn.modules.block.C3k2            [32, 64, 1, False, 0.25]      \n",
            "  3                  -1  1     36992  ultralytics.nn.modules.conv.Conv             [64, 64, 3, 2]                \n",
            "  4                  -1  1     26080  ultralytics.nn.modules.block.C3k2            [64, 128, 1, False, 0.25]     \n",
            "  5                  -1  1    147712  ultralytics.nn.modules.conv.Conv             [128, 128, 3, 2]              \n",
            "  6                  -1  1     87040  ultralytics.nn.modules.block.C3k2            [128, 128, 1, True]           \n",
            "  7                  -1  1    295424  ultralytics.nn.modules.conv.Conv             [128, 256, 3, 2]              \n",
            "  8                  -1  1    346112  ultralytics.nn.modules.block.C3k2            [256, 256, 1, True]           \n",
            "  9                  -1  1    164608  ultralytics.nn.modules.block.SPPF            [256, 256, 5]                 \n",
            " 10                  -1  1    249728  ultralytics.nn.modules.block.C2PSA           [256, 256, 1]                 \n",
            " 11                  -1  1         0  torch.nn.modules.upsampling.Upsample         [None, 2, 'nearest']          \n",
            " 12             [-1, 6]  1         0  ultralytics.nn.modules.conv.Concat           [1]                           \n",
            " 13                  -1  1    111296  ultralytics.nn.modules.block.C3k2            [384, 128, 1, False]          \n",
            " 14                  -1  1         0  torch.nn.modules.upsampling.Upsample         [None, 2, 'nearest']          \n",
            " 15             [-1, 4]  1         0  ultralytics.nn.modules.conv.Concat           [1]                           \n",
            " 16                  -1  1     32096  ultralytics.nn.modules.block.C3k2            [256, 64, 1, False]           \n",
            " 17                  -1  1     36992  ultralytics.nn.modules.conv.Conv             [64, 64, 3, 2]                \n",
            " 18            [-1, 13]  1         0  ultralytics.nn.modules.conv.Concat           [1]                           \n",
            " 19                  -1  1     86720  ultralytics.nn.modules.block.C3k2            [192, 128, 1, False]          \n",
            " 20                  -1  1    147712  ultralytics.nn.modules.conv.Conv             [128, 128, 3, 2]              \n",
            " 21            [-1, 10]  1         0  ultralytics.nn.modules.conv.Concat           [1]                           \n",
            " 22                  -1  1    378880  ultralytics.nn.modules.block.C3k2            [384, 256, 1, True]           \n",
            " 23        [16, 19, 22]  1    430867  ultralytics.nn.modules.head.Detect           [1, [64, 128, 256]]           \n",
            "YOLO11n summary: 319 layers, 2,590,035 parameters, 2,590,019 gradients, 6.4 GFLOPs\n",
            "\n",
            "Transferred 448/499 items from pretrained weights\n",
            "\u001b[34m\u001b[1mTensorBoard: \u001b[0mStart with 'tensorboard --logdir runs/detect/train3', view at http://localhost:6006/\n",
            "Freezing layer 'model.23.dfl.conv.weight'\n",
            "\u001b[34m\u001b[1mAMP: \u001b[0mrunning Automatic Mixed Precision (AMP) checks...\n",
            "\u001b[34m\u001b[1mAMP: \u001b[0mchecks passed ✅\n",
            "\u001b[34m\u001b[1mtrain: \u001b[0mScanning /content/dataset/train/labels... 1674 images, 0 backgrounds, 0 corrupt: 100% 1674/1674 [00:00<00:00, 1952.02it/s]\n",
            "\u001b[34m\u001b[1mtrain: \u001b[0mNew cache created: /content/dataset/train/labels.cache\n",
            "/usr/local/lib/python3.10/dist-packages/albumentations/__init__.py:24: UserWarning: A new version of Albumentations is available: 1.4.22 (you have 1.4.20). Upgrade using: pip install -U albumentations. To disable automatic update checks, set the environment variable NO_ALBUMENTATIONS_UPDATE to 1.\n",
            "  check_for_updates()\n",
            "\u001b[34m\u001b[1malbumentations: \u001b[0mBlur(p=0.01, blur_limit=(3, 7)), MedianBlur(p=0.01, blur_limit=(3, 7)), ToGray(p=0.01, num_output_channels=3, method='weighted_average'), CLAHE(p=0.01, clip_limit=(1.0, 4.0), tile_grid_size=(8, 8))\n",
            "\u001b[34m\u001b[1mval: \u001b[0mScanning /content/dataset/valid/labels... 15 images, 0 backgrounds, 0 corrupt: 100% 15/15 [00:00<00:00, 945.33it/s]\n",
            "\u001b[34m\u001b[1mval: \u001b[0mNew cache created: /content/dataset/valid/labels.cache\n",
            "Plotting labels to runs/detect/train3/labels.jpg... \n",
            "\u001b[34m\u001b[1moptimizer:\u001b[0m 'optimizer=auto' found, ignoring 'lr0=0.01' and 'momentum=0.937' and determining best 'optimizer', 'lr0' and 'momentum' automatically... \n",
            "\u001b[34m\u001b[1moptimizer:\u001b[0m AdamW(lr=0.002, momentum=0.9) with parameter groups 81 weight(decay=0.0), 88 weight(decay=0.0005), 87 bias(decay=0.0)\n",
            "\u001b[34m\u001b[1mTensorBoard: \u001b[0mmodel graph visualization added ✅\n",
            "Image sizes 640 train, 640 val\n",
            "Using 2 dataloader workers\n",
            "Logging results to \u001b[1mruns/detect/train3\u001b[0m\n",
            "Starting training for 10 epochs...\n",
            "Closing dataloader mosaic\n",
            "\u001b[34m\u001b[1malbumentations: \u001b[0mBlur(p=0.01, blur_limit=(3, 7)), MedianBlur(p=0.01, blur_limit=(3, 7)), ToGray(p=0.01, num_output_channels=3, method='weighted_average'), CLAHE(p=0.01, clip_limit=(1.0, 4.0), tile_grid_size=(8, 8))\n",
            "\n",
            "      Epoch    GPU_mem   box_loss   cls_loss   dfl_loss  Instances       Size\n",
            "       1/10      2.49G     0.4993      1.698      1.101         10        640: 100% 105/105 [00:39<00:00,  2.69it/s]\n",
            "                 Class     Images  Instances      Box(P          R      mAP50  mAP50-95): 100% 1/1 [00:00<00:00,  4.54it/s]\n",
            "                   all         15         15          1       0.85      0.995       0.86\n",
            "\n",
            "      Epoch    GPU_mem   box_loss   cls_loss   dfl_loss  Instances       Size\n",
            "       2/10      2.39G     0.4916     0.9179      1.064         10        640: 100% 105/105 [00:32<00:00,  3.20it/s]\n",
            "                 Class     Images  Instances      Box(P          R      mAP50  mAP50-95): 100% 1/1 [00:00<00:00,  4.78it/s]\n",
            "                   all         15         15       0.95        0.6      0.795      0.734\n",
            "\n",
            "      Epoch    GPU_mem   box_loss   cls_loss   dfl_loss  Instances       Size\n",
            "       3/10      2.38G     0.4905     0.6351      1.049         10        640: 100% 105/105 [00:33<00:00,  3.17it/s]\n",
            "                 Class     Images  Instances      Box(P          R      mAP50  mAP50-95): 100% 1/1 [00:00<00:00,  3.75it/s]\n",
            "                   all         15         15      0.993          1      0.995      0.815\n",
            "\n",
            "      Epoch    GPU_mem   box_loss   cls_loss   dfl_loss  Instances       Size\n",
            "       4/10      2.39G     0.4539     0.4764      1.019         10        640: 100% 105/105 [00:31<00:00,  3.37it/s]\n",
            "                 Class     Images  Instances      Box(P          R      mAP50  mAP50-95): 100% 1/1 [00:00<00:00,  1.95it/s]\n",
            "                   all         15         15      0.995          1      0.995        0.8\n",
            "\n",
            "      Epoch    GPU_mem   box_loss   cls_loss   dfl_loss  Instances       Size\n",
            "       5/10      2.39G        0.4     0.3677     0.9818         10        640: 100% 105/105 [00:30<00:00,  3.43it/s]\n",
            "                 Class     Images  Instances      Box(P          R      mAP50  mAP50-95): 100% 1/1 [00:00<00:00,  3.28it/s]\n",
            "                   all         15         15      0.996          1      0.995       0.91\n",
            "\n",
            "      Epoch    GPU_mem   box_loss   cls_loss   dfl_loss  Instances       Size\n",
            "       6/10      2.39G     0.3305     0.3053     0.9235         10        640: 100% 105/105 [00:31<00:00,  3.30it/s]\n",
            "                 Class     Images  Instances      Box(P          R      mAP50  mAP50-95): 100% 1/1 [00:00<00:00,  5.77it/s]\n",
            "                   all         15         15      0.996          1      0.995      0.995\n",
            "\n",
            "      Epoch    GPU_mem   box_loss   cls_loss   dfl_loss  Instances       Size\n",
            "       7/10      2.38G     0.2925     0.2639     0.9035         10        640: 100% 105/105 [00:33<00:00,  3.17it/s]\n",
            "                 Class     Images  Instances      Box(P          R      mAP50  mAP50-95): 100% 1/1 [00:00<00:00,  4.45it/s]\n",
            "                   all         15         15      0.997          1      0.995      0.958\n",
            "\n",
            "      Epoch    GPU_mem   box_loss   cls_loss   dfl_loss  Instances       Size\n",
            "       8/10      2.39G     0.2469     0.2261     0.8662         10        640: 100% 105/105 [00:32<00:00,  3.20it/s]\n",
            "                 Class     Images  Instances      Box(P          R      mAP50  mAP50-95): 100% 1/1 [00:00<00:00,  4.08it/s]\n",
            "                   all         15         15      0.997          1      0.995      0.979\n",
            "\n",
            "      Epoch    GPU_mem   box_loss   cls_loss   dfl_loss  Instances       Size\n",
            "       9/10      2.39G     0.2073     0.1986     0.8493         10        640: 100% 105/105 [00:35<00:00,  2.96it/s]\n",
            "                 Class     Images  Instances      Box(P          R      mAP50  mAP50-95): 100% 1/1 [00:00<00:00,  4.61it/s]\n",
            "                   all         15         15      0.997          1      0.995      0.975\n",
            "\n",
            "      Epoch    GPU_mem   box_loss   cls_loss   dfl_loss  Instances       Size\n",
            "      10/10      2.39G     0.1776      0.177     0.8379         10        640: 100% 105/105 [00:32<00:00,  3.28it/s]\n",
            "                 Class     Images  Instances      Box(P          R      mAP50  mAP50-95): 100% 1/1 [00:00<00:00,  4.31it/s]\n",
            "                   all         15         15          1          1      0.995      0.979\n",
            "\n",
            "10 epochs completed in 0.097 hours.\n",
            "Optimizer stripped from runs/detect/train3/weights/last.pt, 5.5MB\n",
            "Optimizer stripped from runs/detect/train3/weights/best.pt, 5.5MB\n",
            "\n",
            "Validating runs/detect/train3/weights/best.pt...\n",
            "Ultralytics 8.3.49 🚀 Python-3.10.12 torch-2.5.1+cu121 CUDA:0 (Tesla T4, 15102MiB)\n",
            "YOLO11n summary (fused): 238 layers, 2,582,347 parameters, 0 gradients, 6.3 GFLOPs\n",
            "                 Class     Images  Instances      Box(P          R      mAP50  mAP50-95): 100% 1/1 [00:00<00:00,  8.77it/s]\n",
            "                   all         15         15      0.996          1      0.995      0.995\n",
            "Speed: 0.2ms preprocess, 2.3ms inference, 0.0ms loss, 1.1ms postprocess per image\n",
            "Results saved to \u001b[1mruns/detect/train3\u001b[0m\n",
            "💡 Learn more at https://docs.ultralytics.com/modes/train\n"
          ]
        }
      ]
    },
    {
      "cell_type": "markdown",
      "source": [
        "# 4. Export\n",
        "\n",
        "Export a YOLO11 model to any supported format below with the `format` argument, i.e. `format=onnx`. See [YOLO11 Export Docs](https://docs.ultralytics.com/modes/export/) for more information.\n",
        "\n",
        "- 💡 ProTip: Export to [ONNX](https://docs.ultralytics.com/integrations/onnx/) or [OpenVINO](https://docs.ultralytics.com/integrations/openvino/) for up to 3x CPU speedup.  \n",
        "- 💡 ProTip: Export to [TensorRT](https://docs.ultralytics.com/integrations/tensorrt/) for up to 5x GPU speedup.\n",
        "\n",
        "| Format                                                                   | `format` Argument | Model                     | Metadata | Arguments                                                            |\n",
        "|--------------------------------------------------------------------------|-------------------|---------------------------|----------|----------------------------------------------------------------------|\n",
        "| [PyTorch](https://pytorch.org/)                                          | -                 | `yolo11n.pt`              | ✅        | -                                                                    |\n",
        "| [TorchScript](https://docs.ultralytics.com/integrations/torchscript)     | `torchscript`     | `yolo11n.torchscript`     | ✅        | `imgsz`, `optimize`, `batch`                                         |\n",
        "| [ONNX](https://docs.ultralytics.com/integrations/onnx)                   | `onnx`            | `yolo11n.onnx`            | ✅        | `imgsz`, `half`, `dynamic`, `simplify`, `opset`, `batch`             |\n",
        "| [OpenVINO](https://docs.ultralytics.com/integrations/openvino)           | `openvino`        | `yolo11n_openvino_model/` | ✅        | `imgsz`, `half`, `int8`, `batch`                                     |\n",
        "| [TensorRT](https://docs.ultralytics.com/integrations/tensorrt)           | `engine`          | `yolo11n.engine`          | ✅        | `imgsz`, `half`, `dynamic`, `simplify`, `workspace`, `int8`, `batch` |\n",
        "| [CoreML](https://docs.ultralytics.com/integrations/coreml)               | `coreml`          | `yolo11n.mlpackage`       | ✅        | `imgsz`, `half`, `int8`, `nms`, `batch`                              |\n",
        "| [TF SavedModel](https://docs.ultralytics.com/integrations/tf-savedmodel) | `saved_model`     | `yolo11n_saved_model/`    | ✅        | `imgsz`, `keras`, `int8`, `batch`                                    |\n",
        "| [TF GraphDef](https://docs.ultralytics.com/integrations/tf-graphdef)     | `pb`              | `yolo11n.pb`              | ❌        | `imgsz`, `batch`                                                     |\n",
        "| [TF Lite](https://docs.ultralytics.com/integrations/tflite)              | `tflite`          | `yolo11n.tflite`          | ✅        | `imgsz`, `half`, `int8`, `batch`                                     |\n",
        "| [TF Edge TPU](https://docs.ultralytics.com/integrations/edge-tpu)        | `edgetpu`         | `yolo11n_edgetpu.tflite`  | ✅        | `imgsz`                                                              |\n",
        "| [TF.js](https://docs.ultralytics.com/integrations/tfjs)                  | `tfjs`            | `yolo11n_web_model/`      | ✅        | `imgsz`, `half`, `int8`, `batch`                                     |\n",
        "| [PaddlePaddle](https://docs.ultralytics.com/integrations/paddlepaddle)   | `paddle`          | `yolo11n_paddle_model/`   | ✅        | `imgsz`, `batch`                                                     |\n",
        "| [NCNN](https://docs.ultralytics.com/integrations/ncnn)                   | `ncnn`            | `yolo11n_ncnn_model/`     | ✅        | `imgsz`, `half`, `batch`                                             |"
      ],
      "metadata": {
        "id": "nPZZeNrLCQG6"
      }
    },
    {
      "cell_type": "code",
      "source": [
        "!yolo export model=/content/runs/detect/train2/weights/best.pt format=tflite"
      ],
      "metadata": {
        "colab": {
          "base_uri": "https://localhost:8080/"
        },
        "id": "CYIjW4igCjqD",
        "outputId": "474361f6-2c88-4e0f-b260-8278fdf67d77"
      },
      "execution_count": 9,
      "outputs": [
        {
          "output_type": "stream",
          "name": "stdout",
          "text": [
            "Ultralytics 8.3.49 🚀 Python-3.10.12 torch-2.5.1+cu121 CPU (Intel Xeon 2.00GHz)\n",
            "YOLO11n summary (fused): 238 layers, 2,582,347 parameters, 0 gradients, 6.3 GFLOPs\n",
            "\n",
            "\u001b[34m\u001b[1mPyTorch:\u001b[0m starting from '/content/runs/detect/train2/weights/best.pt' with input shape (1, 3, 640, 640) BCHW and output shape(s) (1, 5, 8400) (5.2 MB)\n",
            "\u001b[31m\u001b[1mrequirements:\u001b[0m Ultralytics requirements ['sng4onnx>=1.0.1', 'onnx_graphsurgeon>=0.3.26', 'onnx>=1.12.0', 'onnx2tf>1.17.5,<=1.22.3', 'onnxslim>=0.1.31', 'tflite_support', 'onnxruntime'] not found, attempting AutoUpdate...\n",
            "\u001b[31mERROR: pip's dependency resolver does not currently take into account all the packages that are installed. This behaviour is the source of the following dependency conflicts.\n",
            "grpcio-status 1.62.3 requires protobuf>=4.21.6, but you have protobuf 3.20.3 which is incompatible.\u001b[0m\u001b[31m\n",
            "\u001b[0mLooking in indexes: https://pypi.org/simple, https://pypi.ngc.nvidia.com\n",
            "Collecting sng4onnx>=1.0.1\n",
            "  Downloading sng4onnx-1.0.4-py3-none-any.whl.metadata (4.6 kB)\n",
            "Collecting onnx_graphsurgeon>=0.3.26\n",
            "  Downloading onnx_graphsurgeon-0.5.2-py2.py3-none-any.whl.metadata (8.1 kB)\n",
            "Collecting onnx>=1.12.0\n",
            "  Downloading onnx-1.17.0-cp310-cp310-manylinux_2_17_x86_64.manylinux2014_x86_64.whl.metadata (16 kB)\n",
            "Collecting onnx2tf<=1.22.3,>1.17.5\n",
            "  Downloading onnx2tf-1.22.3-py3-none-any.whl.metadata (136 kB)\n",
            "     ━━━━━━━━━━━━━━━━━━━━━━━━━━━━━━━━━━━━━━━━ 136.6/136.6 kB 8.9 MB/s eta 0:00:00\n",
            "Collecting onnxslim>=0.1.31\n",
            "  Downloading onnxslim-0.1.43-py3-none-any.whl.metadata (4.2 kB)\n",
            "Collecting tflite_support\n",
            "  Downloading tflite_support-0.4.4-cp310-cp310-manylinux2014_x86_64.whl.metadata (2.4 kB)\n",
            "Collecting onnxruntime\n",
            "  Downloading onnxruntime-1.20.1-cp310-cp310-manylinux_2_27_x86_64.manylinux_2_28_x86_64.whl.metadata (4.5 kB)\n",
            "Requirement already satisfied: numpy in /usr/local/lib/python3.10/dist-packages (from onnx_graphsurgeon>=0.3.26) (1.26.4)\n",
            "Requirement already satisfied: protobuf>=3.20.2 in /usr/local/lib/python3.10/dist-packages (from onnx>=1.12.0) (4.25.5)\n",
            "Requirement already satisfied: sympy in /usr/local/lib/python3.10/dist-packages (from onnxslim>=0.1.31) (1.13.1)\n",
            "Requirement already satisfied: packaging in /usr/local/lib/python3.10/dist-packages (from onnxslim>=0.1.31) (24.2)\n",
            "Requirement already satisfied: absl-py>=0.7.0 in /usr/local/lib/python3.10/dist-packages (from tflite_support) (1.4.0)\n",
            "Requirement already satisfied: flatbuffers>=2.0 in /usr/local/lib/python3.10/dist-packages (from tflite_support) (24.3.25)\n",
            "Collecting protobuf>=3.20.2 (from onnx>=1.12.0)\n",
            "  Downloading protobuf-3.20.3-cp310-cp310-manylinux_2_12_x86_64.manylinux2010_x86_64.whl.metadata (679 bytes)\n",
            "Collecting sounddevice>=0.4.4 (from tflite_support)\n",
            "  Downloading sounddevice-0.5.1-py3-none-any.whl.metadata (1.4 kB)\n",
            "Collecting pybind11>=2.6.0 (from tflite_support)\n",
            "  Downloading pybind11-2.13.6-py3-none-any.whl.metadata (9.5 kB)\n",
            "Collecting coloredlogs (from onnxruntime)\n",
            "  Downloading coloredlogs-15.0.1-py2.py3-none-any.whl.metadata (12 kB)\n",
            "Requirement already satisfied: CFFI>=1.0 in /usr/local/lib/python3.10/dist-packages (from sounddevice>=0.4.4->tflite_support) (1.17.1)\n",
            "Collecting humanfriendly>=9.1 (from coloredlogs->onnxruntime)\n",
            "  Downloading humanfriendly-10.0-py2.py3-none-any.whl.metadata (9.2 kB)\n",
            "Requirement already satisfied: mpmath<1.4,>=1.1.0 in /usr/local/lib/python3.10/dist-packages (from sympy->onnxslim>=0.1.31) (1.3.0)\n",
            "Requirement already satisfied: pycparser in /usr/local/lib/python3.10/dist-packages (from CFFI>=1.0->sounddevice>=0.4.4->tflite_support) (2.22)\n",
            "Downloading sng4onnx-1.0.4-py3-none-any.whl (5.9 kB)\n",
            "Downloading onnx_graphsurgeon-0.5.2-py2.py3-none-any.whl (56 kB)\n",
            "   ━━━━━━━━━━━━━━━━━━━━━━━━━━━━━━━━━━━━━━━━ 56.4/56.4 kB 173.8 MB/s eta 0:00:00\n",
            "Downloading onnx-1.17.0-cp310-cp310-manylinux_2_17_x86_64.manylinux2014_x86_64.whl (16.0 MB)\n",
            "   ━━━━━━━━━━━━━━━━━━━━━━━━━━━━━━━━━━━━━━━━ 16.0/16.0 MB 194.6 MB/s eta 0:00:00\n",
            "Downloading onnx2tf-1.22.3-py3-none-any.whl (435 kB)\n",
            "   ━━━━━━━━━━━━━━━━━━━━━━━━━━━━━━━━━━━━━━━━ 435.0/435.0 kB 224.4 MB/s eta 0:00:00\n",
            "Downloading onnxslim-0.1.43-py3-none-any.whl (142 kB)\n",
            "   ━━━━━━━━━━━━━━━━━━━━━━━━━━━━━━━━━━━━━━━━ 142.9/142.9 kB 127.3 MB/s eta 0:00:00\n",
            "Downloading tflite_support-0.4.4-cp310-cp310-manylinux2014_x86_64.whl (60.8 MB)\n",
            "   ━━━━━━━━━━━━━━━━━━━━━━━━━━━━━━━━━━━━━━━━ 60.8/60.8 MB 148.9 MB/s eta 0:00:00\n",
            "Downloading onnxruntime-1.20.1-cp310-cp310-manylinux_2_27_x86_64.manylinux_2_28_x86_64.whl (13.3 MB)\n",
            "   ━━━━━━━━━━━━━━━━━━━━━━━━━━━━━━━━━━━━━━━━ 13.3/13.3 MB 204.9 MB/s eta 0:00:00\n",
            "Downloading protobuf-3.20.3-cp310-cp310-manylinux_2_12_x86_64.manylinux2010_x86_64.whl (1.1 MB)\n",
            "   ━━━━━━━━━━━━━━━━━━━━━━━━━━━━━━━━━━━━━━━━ 1.1/1.1 MB 201.1 MB/s eta 0:00:00\n",
            "Downloading pybind11-2.13.6-py3-none-any.whl (243 kB)\n",
            "   ━━━━━━━━━━━━━━━━━━━━━━━━━━━━━━━━━━━━━━━━ 243.3/243.3 kB 206.2 MB/s eta 0:00:00\n",
            "Downloading sounddevice-0.5.1-py3-none-any.whl (32 kB)\n",
            "Downloading coloredlogs-15.0.1-py2.py3-none-any.whl (46 kB)\n",
            "   ━━━━━━━━━━━━━━━━━━━━━━━━━━━━━━━━━━━━━━━━ 46.0/46.0 kB 169.6 MB/s eta 0:00:00\n",
            "Downloading humanfriendly-10.0-py2.py3-none-any.whl (86 kB)\n",
            "   ━━━━━━━━━━━━━━━━━━━━━━━━━━━━━━━━━━━━━━━━ 86.8/86.8 kB 191.4 MB/s eta 0:00:00\n",
            "Installing collected packages: sng4onnx, pybind11, protobuf, onnx2tf, humanfriendly, sounddevice, onnx, coloredlogs, tflite_support, onnxslim, onnxruntime, onnx_graphsurgeon\n",
            "  Attempting uninstall: protobuf\n",
            "    Found existing installation: protobuf 4.25.5\n",
            "    Uninstalling protobuf-4.25.5:\n",
            "      Successfully uninstalled protobuf-4.25.5\n",
            "Successfully installed coloredlogs-15.0.1 humanfriendly-10.0 onnx-1.17.0 onnx2tf-1.22.3 onnx_graphsurgeon-0.5.2 onnxruntime-1.20.1 onnxslim-0.1.43 protobuf-3.20.3 pybind11-2.13.6 sng4onnx-1.0.4 sounddevice-0.5.1 tflite_support-0.4.4\n",
            "\n",
            "\u001b[31m\u001b[1mrequirements:\u001b[0m AutoUpdate success ✅ 12.4s, installed 7 packages: ['sng4onnx>=1.0.1', 'onnx_graphsurgeon>=0.3.26', 'onnx>=1.12.0', 'onnx2tf>1.17.5,<=1.22.3', 'onnxslim>=0.1.31', 'tflite_support', 'onnxruntime']\n",
            "\u001b[31m\u001b[1mrequirements:\u001b[0m ⚠️ \u001b[1mRestart runtime or rerun command for updates to take effect\u001b[0m\n",
            "\n",
            "\n",
            "\u001b[34m\u001b[1mTensorFlow SavedModel:\u001b[0m starting export with tensorflow 2.17.1...\n",
            "Downloading https://github.com/ultralytics/assets/releases/download/v8.3.0/calibration_image_sample_data_20x128x128x3_float32.npy.zip to 'calibration_image_sample_data_20x128x128x3_float32.npy.zip'...\n",
            "100% 1.11M/1.11M [00:00<00:00, 34.0MB/s]\n",
            "Unzipping calibration_image_sample_data_20x128x128x3_float32.npy.zip to /content/calibration_image_sample_data_20x128x128x3_float32.npy...: 100% 1/1 [00:00<00:00, 51.27file/s]\n",
            "\n",
            "\u001b[34m\u001b[1mONNX:\u001b[0m starting export with onnx 1.17.0 opset 19...\n",
            "\u001b[34m\u001b[1mONNX:\u001b[0m slimming with onnxslim 0.1.43...\n",
            "\u001b[34m\u001b[1mONNX:\u001b[0m export success ✅ 2.2s, saved as '/content/runs/detect/train2/weights/best.onnx' (10.2 MB)\n",
            "\u001b[34m\u001b[1mTensorFlow SavedModel:\u001b[0m starting TFLite export with onnx2tf 1.22.3...\n",
            "WARNING: All log messages before absl::InitializeLog() is called are written to STDERR\n",
            "I0000 00:00:1733982644.901764    4285 devices.cc:67] Number of eligible GPUs (core count >= 8, compute capability >= 0.0): 0\n",
            "WARNING: All log messages before absl::InitializeLog() is called are written to STDERR\n",
            "W0000 00:00:1733982645.848560    4285 tf_tfl_flatbuffer_helpers.cc:392] Ignored output_format.\n",
            "W0000 00:00:1733982645.848606    4285 tf_tfl_flatbuffer_helpers.cc:395] Ignored drop_control_dependency.\n",
            "I0000 00:00:1733982647.533357    4285 devices.cc:67] Number of eligible GPUs (core count >= 8, compute capability >= 0.0): 0\n",
            "W0000 00:00:1733982648.837593    4285 tf_tfl_flatbuffer_helpers.cc:392] Ignored output_format.\n",
            "W0000 00:00:1733982648.837632    4285 tf_tfl_flatbuffer_helpers.cc:395] Ignored drop_control_dependency.\n",
            "\u001b[34m\u001b[1mTensorFlow SavedModel:\u001b[0m export success ✅ 35.2s, saved as '/content/runs/detect/train2/weights/best_saved_model' (25.7 MB)\n",
            "\n",
            "\u001b[34m\u001b[1mTensorFlow Lite:\u001b[0m starting export with tensorflow 2.17.1...\n",
            "\u001b[34m\u001b[1mTensorFlow Lite:\u001b[0m export success ✅ 0.0s, saved as '/content/runs/detect/train2/weights/best_saved_model/best_float32.tflite' (10.2 MB)\n",
            "\n",
            "Export complete (36.9s)\n",
            "Results saved to \u001b[1m/content/runs/detect/train2/weights\u001b[0m\n",
            "Predict:         yolo predict task=detect model=/content/runs/detect/train2/weights/best_saved_model/best_float32.tflite imgsz=640  \n",
            "Validate:        yolo val task=detect model=/content/runs/detect/train2/weights/best_saved_model/best_float32.tflite imgsz=640 data=/content/dataset/data.yaml  \n",
            "Visualize:       https://netron.app\n",
            "💡 Learn more at https://docs.ultralytics.com/modes/export\n"
          ]
        }
      ]
    },
    {
      "cell_type": "markdown",
      "source": [
        "# 5. Python Usage\n",
        "\n",
        "YOLO11 was reimagined using Python-first principles for the most seamless Python YOLO experience yet. YOLO11 models can be loaded from a trained checkpoint or created from scratch. Then methods are used to train, val, predict, and export the model. See detailed Python usage examples in the [YOLO11 Python Docs](https://docs.ultralytics.com/usage/python/)."
      ],
      "metadata": {
        "id": "kUMOQ0OeDBJG"
      }
    },
    {
      "cell_type": "code",
      "source": [
        "from ultralytics import YOLO\n",
        "\n",
        "# Load a model\n",
        "model = YOLO('yolo11n.yaml')  # build a new model from scratch\n",
        "model = YOLO('yolo11n.pt')  # load a pretrained model (recommended for training)\n",
        "\n",
        "# Use the model\n",
        "results = model.train(data='coco8.yaml', epochs=3)  # train the model\n",
        "results = model.val()  # evaluate model performance on the validation set\n",
        "results = model('https://ultralytics.com/images/bus.jpg')  # predict on an image\n",
        "results = model.export(format='onnx')  # export the model to ONNX format"
      ],
      "metadata": {
        "id": "bpF9-vS_DAaf"
      },
      "execution_count": null,
      "outputs": []
    },
    {
      "cell_type": "markdown",
      "source": [
        "# 6. Tasks\n",
        "\n",
        "YOLO11 can train, val, predict and export models for the most common tasks in vision AI: [Detect](https://docs.ultralytics.com/tasks/detect/), [Segment](https://docs.ultralytics.com/tasks/segment/), [Classify](https://docs.ultralytics.com/tasks/classify/) and [Pose](https://docs.ultralytics.com/tasks/pose/). See [YOLO11 Tasks Docs](https://docs.ultralytics.com/tasks/) for more information.\n",
        "\n",
        "<br><img width=\"1024\" src=\"https://raw.githubusercontent.com/ultralytics/assets/main/im/banner-tasks.png\">\n"
      ],
      "metadata": {
        "id": "Phm9ccmOKye5"
      }
    },
    {
      "cell_type": "markdown",
      "source": [
        "## 1. Detection\n",
        "\n",
        "YOLO11 _detection_ models have no suffix and are the default YOLO11 models, i.e. `yolo11n.pt` and are pretrained on COCO. See [Detection Docs](https://docs.ultralytics.com/tasks/detect/) for full details.\n"
      ],
      "metadata": {
        "id": "yq26lwpYK1lq"
      }
    },
    {
      "cell_type": "code",
      "source": [
        "# Load YOLO11n, train it on COCO128 for 3 epochs and predict an image with it\n",
        "from ultralytics import YOLO\n",
        "\n",
        "model = YOLO('yolo11n.pt')  # load a pretrained YOLO detection model\n",
        "model.train(data='coco8.yaml', epochs=3)  # train the model\n",
        "model('https://ultralytics.com/images/bus.jpg')  # predict on an image"
      ],
      "metadata": {
        "id": "8Go5qqS9LbC5"
      },
      "execution_count": null,
      "outputs": []
    },
    {
      "cell_type": "markdown",
      "source": [
        "## 2. Segmentation\n",
        "\n",
        "YOLO11 _segmentation_ models use the `-seg` suffix, i.e. `yolo11n-seg.pt` and are pretrained on COCO. See [Segmentation Docs](https://docs.ultralytics.com/tasks/segment/) for full details.\n"
      ],
      "metadata": {
        "id": "7ZW58jUzK66B"
      }
    },
    {
      "cell_type": "code",
      "source": [
        "# Load YOLO11n-seg, train it on COCO128-seg for 3 epochs and predict an image with it\n",
        "from ultralytics import YOLO\n",
        "\n",
        "model = YOLO('yolo11n-seg.pt')  # load a pretrained YOLO segmentation model\n",
        "model.train(data='coco8-seg.yaml', epochs=3)  # train the model\n",
        "model('https://ultralytics.com/images/bus.jpg')  # predict on an image"
      ],
      "metadata": {
        "id": "WFPJIQl_L5HT"
      },
      "execution_count": null,
      "outputs": []
    },
    {
      "cell_type": "markdown",
      "source": [
        "## 3. Classification\n",
        "\n",
        "YOLO11 _classification_ models use the `-cls` suffix, i.e. `yolo11n-cls.pt` and are pretrained on ImageNet. See [Classification Docs](https://docs.ultralytics.com/tasks/classify/) for full details.\n"
      ],
      "metadata": {
        "id": "ax3p94VNK9zR"
      }
    },
    {
      "cell_type": "code",
      "source": [
        "# Load YOLO11n-cls, train it on mnist160 for 3 epochs and predict an image with it\n",
        "from ultralytics import YOLO\n",
        "\n",
        "model = YOLO('yolo11n-cls.pt')  # load a pretrained YOLO classification model\n",
        "model.train(data='mnist160', epochs=3)  # train the model\n",
        "model('https://ultralytics.com/images/bus.jpg')  # predict on an image"
      ],
      "metadata": {
        "id": "5q9Zu6zlL5rS"
      },
      "execution_count": null,
      "outputs": []
    },
    {
      "cell_type": "markdown",
      "source": [
        "## 4. Pose\n",
        "\n",
        "YOLO11 _pose_ models use the `-pose` suffix, i.e. `yolo11n-pose.pt` and are pretrained on COCO Keypoints. See [Pose Docs](https://docs.ultralytics.com/tasks/pose/) for full details."
      ],
      "metadata": {
        "id": "SpIaFLiO11TG"
      }
    },
    {
      "cell_type": "code",
      "source": [
        "# Load YOLO11n-pose, train it on COCO8-pose for 3 epochs and predict an image with it\n",
        "from ultralytics import YOLO\n",
        "\n",
        "model = YOLO('yolo11n-pose.pt')  # load a pretrained YOLO pose model\n",
        "model.train(data='coco8-pose.yaml', epochs=3)  # train the model\n",
        "model('https://ultralytics.com/images/bus.jpg')  # predict on an image"
      ],
      "metadata": {
        "id": "si4aKFNg19vX"
      },
      "execution_count": null,
      "outputs": []
    },
    {
      "cell_type": "markdown",
      "source": [
        "## 4. Oriented Bounding Boxes (OBB)\n",
        "\n",
        "YOLO11 _OBB_ models use the `-obb` suffix, i.e. `yolo11n-obb.pt` and are pretrained on the DOTA dataset. See [OBB Docs](https://docs.ultralytics.com/tasks/obb/) for full details."
      ],
      "metadata": {
        "id": "cf5j_T9-B5F0"
      }
    },
    {
      "cell_type": "code",
      "source": [
        "# Load YOLO11n-obb, train it on DOTA8 for 3 epochs and predict an image with it\n",
        "from ultralytics import YOLO\n",
        "\n",
        "model = YOLO('yolo11n-obb.pt')  # load a pretrained YOLO OBB model\n",
        "model.train(data='dota8.yaml', epochs=3)  # train the model\n",
        "model('https://ultralytics.com/images/boats.jpg')  # predict on an image"
      ],
      "metadata": {
        "id": "IJNKClOOB5YS"
      },
      "execution_count": null,
      "outputs": []
    },
    {
      "cell_type": "markdown",
      "metadata": {
        "id": "IEijrePND_2I"
      },
      "source": [
        "# Appendix\n",
        "\n",
        "Additional content below."
      ]
    },
    {
      "cell_type": "code",
      "source": [
        "# Pip install from source\n",
        "!pip install git+https://github.com/ultralytics/ultralytics@main"
      ],
      "metadata": {
        "id": "pIdE6i8C3LYp"
      },
      "execution_count": null,
      "outputs": []
    },
    {
      "cell_type": "code",
      "source": [
        "# Git clone and run tests on updates branch\n",
        "!git clone https://github.com/ultralytics/ultralytics -b main\n",
        "%pip install -qe ultralytics"
      ],
      "metadata": {
        "id": "uRKlwxSJdhd1"
      },
      "execution_count": null,
      "outputs": []
    },
    {
      "cell_type": "code",
      "source": [
        "# Run tests (Git clone only)\n",
        "!pytest ultralytics/tests"
      ],
      "metadata": {
        "id": "GtPlh7mcCGZX"
      },
      "execution_count": null,
      "outputs": []
    },
    {
      "cell_type": "code",
      "source": [
        "# Validate multiple models\n",
        "for x in 'nsmlx':\n",
        "  !yolo val model=yolo11{x}.pt data=coco.yaml"
      ],
      "metadata": {
        "id": "Wdc6t_bfzDDk"
      },
      "execution_count": null,
      "outputs": []
    }
  ]
}